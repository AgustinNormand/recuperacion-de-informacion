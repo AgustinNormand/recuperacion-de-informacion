{
 "cells": [
  {
   "cell_type": "markdown",
   "id": "61e4f8b6",
   "metadata": {},
   "source": [
    "Código del ejercicio anterior:"
   ]
  },
  {
   "cell_type": "code",
   "execution_count": 21,
   "id": "f066526a",
   "metadata": {
    "scrolled": false
   },
   "outputs": [],
   "source": [
    "import re\n",
    "from nltk.stem import *\n",
    "import matplotlib.pyplot as plt\n",
    "import numpy as np\n",
    "\n",
    "terms = {}\n",
    "\n",
    "def translate(to_translate):\n",
    "    tabin = u'áéíóú'\n",
    "    tabout = u'aeiou'\n",
    "    tabin = [ord(char) for char in tabin]\n",
    "    translate_table = dict(zip(tabin, tabout))\n",
    "    return to_translate.translate(translate_table)\n",
    "\n",
    "\n",
    "def remove_non_alphanumeric(result):\n",
    "    return re.sub(r'[^a-zA-Z0-9]', '', result)\n",
    "\n",
    "def normalize(token):\n",
    "    result = token.lower()\n",
    "    result = translate(result)\n",
    "    result = remove_non_alphanumeric(result)\n",
    "    return result\n",
    "\n",
    "file_path = \"pg2000.txt\"\n",
    "with open(file_path, \"r\") as f:\n",
    "    for line in f.readlines():\n",
    "        for word in line.strip().split():\n",
    "            possible_term = normalize(word)\n",
    "            try:\n",
    "                terms[possible_term] += 1\n",
    "            except:\n",
    "                terms[possible_term] = 1\n",
    "\n",
    "sorted_terms = sorted(terms.items(), key=lambda item: item[1], reverse=True)\n",
    "\n",
    "rank = []\n",
    "values = []\n",
    "\n",
    "counter = 1\n",
    "for sorted_term in sorted_terms:\n",
    "    rank.append(counter)\n",
    "    counter += 1\n",
    "    values.append(sorted_term[1])\n",
    "    \n",
    "x = rank\n",
    "y = values\n",
    "\n",
    "xlog = np.log(rank)\n",
    "ylog = np.log(values)"
   ]
  },
  {
   "cell_type": "code",
   "execution_count": 22,
   "id": "facd69ae",
   "metadata": {},
   "outputs": [],
   "source": [
    "def obtenerRectaAjustada(x, y):\n",
    "    rectaAjuste = np.polyfit(x, y, 1)\n",
    "\n",
    "    rectaAjusteEcuacion = np.poly1d(rectaAjuste)\n",
    "    rectaAjusteEvaluada = rectaAjusteEcuacion(x)\n",
    "\n",
    "    return rectaAjusteEvaluada"
   ]
  },
  {
   "cell_type": "code",
   "execution_count": 23,
   "id": "918f2559",
   "metadata": {},
   "outputs": [],
   "source": [
    "y_pred = obtenerRectaAjustada(xlog, ylog)"
   ]
  },
  {
   "cell_type": "code",
   "execution_count": 24,
   "id": "fda28d61",
   "metadata": {},
   "outputs": [
    {
     "name": "stdout",
     "output_type": "stream",
     "text": [
      "Proporción de terminos con frecuencia >= a 100 = 0.01720643408512657\n",
      "Proporción de terminos con frecuencia >= a 1000 = 0.002069946957609211\n",
      "Proporción de terminos con frecuencia >= a 10000 = 0.0001724955798007676\n"
     ]
    }
   ],
   "source": [
    "frecuencies = [100, 1000, 10000]\n",
    "for frequency in frecuencies:\n",
    "    counter = 0\n",
    "    for term in terms:\n",
    "        if terms[term] >= frequency:\n",
    "            counter += 1\n",
    "    print(\"Proporción de terminos con frecuencia >= a {} = {}\".format(frequency, counter/len(terms)))\n"
   ]
  },
  {
   "cell_type": "code",
   "execution_count": 25,
   "id": "c30c2466",
   "metadata": {},
   "outputs": [
    {
     "name": "stdout",
     "output_type": "stream",
     "text": [
      "Proporción de terminos con frecuencia >= a 100 = 0.0170339385053258\n",
      "Proporción de terminos con frecuencia >= a 1000 = 0.00250118590711113\n",
      "Proporción de terminos con frecuencia >= a 10000 = 0.0003449911596015352\n"
     ]
    }
   ],
   "source": [
    "frecuencies = [100, 1000, 10000]\n",
    "for frequency in frecuencies:\n",
    "    counter = 0\n",
    "    for value in y_pred:\n",
    "        if value >= np.log(frequency):\n",
    "            counter += 1\n",
    "    print(\"Proporción de terminos con frecuencia >= a {} = {}\".format(frequency, counter/len(terms)))"
   ]
  }
 ],
 "metadata": {
  "kernelspec": {
   "display_name": "Python 3 (ipykernel)",
   "language": "python",
   "name": "python3"
  },
  "language_info": {
   "codemirror_mode": {
    "name": "ipython",
    "version": 3
   },
   "file_extension": ".py",
   "mimetype": "text/x-python",
   "name": "python",
   "nbconvert_exporter": "python",
   "pygments_lexer": "ipython3",
   "version": "3.9.7"
  }
 },
 "nbformat": 4,
 "nbformat_minor": 5
}
