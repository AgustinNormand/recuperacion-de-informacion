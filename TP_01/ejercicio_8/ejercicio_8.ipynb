{
 "cells": [
  {
   "cell_type": "code",
   "execution_count": 1,
   "id": "f066526a",
   "metadata": {
    "scrolled": false
   },
   "outputs": [],
   "source": [
    "import re\n",
    "from nltk.stem import *\n",
    "import matplotlib.pyplot as plt\n",
    "import numpy as np\n",
    "from matplotlib.pyplot import figure\n",
    "\n",
    "file_path = \"pg2000.txt\"\n",
    "output_file = \"output.txt\"\n",
    "\n",
    "step = 1\n",
    "\n",
    "terms = {}\n",
    "tokens = []\n",
    "\n",
    "steps = []\n",
    "terms_size = []\n",
    "tokens_size = []\n",
    "\n",
    "def translate(to_translate):\n",
    "    tabin = u'áéíóú'\n",
    "    tabout = u'aeiou'\n",
    "    tabin = [ord(char) for char in tabin]\n",
    "    translate_table = dict(zip(tabin, tabout))\n",
    "    return to_translate.translate(translate_table)\n",
    "\n",
    "\n",
    "def remove_non_alphanumeric(result):\n",
    "    return re.sub(r'[^a-zA-Z0-9]', '', result)\n",
    "\n",
    "def normalize(token):\n",
    "    result = token.lower()\n",
    "    result = translate(result)\n",
    "    result = remove_non_alphanumeric(result)\n",
    "    return result\n",
    "\n",
    "with open(file_path, \"r\") as f:\n",
    "    for line in f.readlines():\n",
    "        for word in line.strip().split():\n",
    "            possible_term = normalize(word)\n",
    "            tokens.append(possible_term)\n",
    "            try:\n",
    "                terms[possible_term] += 1\n",
    "            except:\n",
    "                terms[possible_term] = 1\n",
    "\n",
    "            steps.append(step)\n",
    "            step += 1\n",
    "            tokens_size.append(len(tokens))\n",
    "            terms_size.append(len(terms))\n"
   ]
  },
  {
   "cell_type": "code",
   "execution_count": 2,
   "id": "6b2842c3",
   "metadata": {},
   "outputs": [],
   "source": [
    "with open(output_file, \"w\") as f:\n",
    "    f.write(\"{} {}\".format(len(tokens), len(terms)))"
   ]
  },
  {
   "cell_type": "code",
   "execution_count": 3,
   "id": "a4500b3e",
   "metadata": {},
   "outputs": [],
   "source": [
    "from scipy.optimize import curve_fit\n",
    "\n",
    "def func(n, k, b):\n",
    "    return k*(n**b)\n",
    "\n",
    "popt, pcov = curve_fit(func, steps, terms_size)\n",
    "y_pred = func(steps, *popt)\n",
    "\n"
   ]
  },
  {
   "cell_type": "code",
   "execution_count": 4,
   "id": "2aecf227",
   "metadata": {},
   "outputs": [
    {
     "data": {
      "image/png": "[encoded data removed]",
      "text/plain": [
       "<Figure size 480x400 with 1 Axes>"
      ]
     },
     "metadata": {
      "needs_background": "light"
     },
     "output_type": "display_data"
    }
   ],
   "source": [
    "figure(figsize=(6, 5), dpi=80)\n",
    "plt.scatter(steps, terms_size, s=0.0005)\n",
    "plt.scatter(steps, y_pred, color=\"red\", s=0.0005)\n",
    "plt.show()"
   ]
  },
  {
   "cell_type": "code",
   "execution_count": 5,
   "id": "37b69bff",
   "metadata": {},
   "outputs": [
    {
     "data": {
      "text/plain": [
       "0.9991489082769771"
      ]
     },
     "execution_count": 5,
     "metadata": {},
     "output_type": "execute_result"
    }
   ],
   "source": [
    "pow(np.corrcoef(terms_size, y_pred)[0][1], 2)"
   ]
  }
 ],
 "metadata": {
  "kernelspec": {
   "display_name": "Python 3 (ipykernel)",
   "language": "python",
   "name": "python3"
  },
  "language_info": {
   "codemirror_mode": {
    "name": "ipython",
    "version": 3
   },
   "file_extension": ".py",
   "mimetype": "text/x-python",
   "name": "python",
   "nbconvert_exporter": "python",
   "pygments_lexer": "ipython3",
   "version": "3.9.7"
  }
 },
 "nbformat": 4,
 "nbformat_minor": 5
}
