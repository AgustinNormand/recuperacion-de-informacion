{
 "cells": [
  {
   "cell_type": "code",
   "execution_count": 92,
   "id": "4ed60f85-051c-430b-8af6-1eb0fa410c09",
   "metadata": {},
   "outputs": [],
   "source": [
    "words_count = {}\n",
    "words_length = []\n",
    "words = []\n",
    "with open(\"words-en.txt\", \"r\") as f:\n",
    "    for line in f.readlines():\n",
    "        words.append(line.strip())\n",
    "        words_length.append(len(line.strip()))\n",
    "        try:\n",
    "            words_count[line.strip()] += 1\n",
    "        except:\n",
    "            words_count[line.strip()] = 1"
   ]
  },
  {
   "cell_type": "code",
   "execution_count": 93,
   "id": "9ff3ba4c-6b65-4a93-b61a-19d22567d023",
   "metadata": {},
   "outputs": [
    {
     "name": "stdout",
     "output_type": "stream",
     "text": [
      "Longitud de la palabra más larga: 31\n"
     ]
    }
   ],
   "source": [
    "print(\"Longitud de la palabra más larga: {}\".format(max(words_length)))\n"
   ]
  },
  {
   "cell_type": "code",
   "execution_count": 94,
   "id": "ae1e7dda-2c54-4c52-a68f-8c034726531c",
   "metadata": {},
   "outputs": [
    {
     "name": "stdout",
     "output_type": "stream",
     "text": [
      "Longitud promedio: 9.459394202351403\n"
     ]
    }
   ],
   "source": [
    "print(\"Longitud promedio: {}\".format(sum(words_length)/len(words_length)))"
   ]
  },
  {
   "cell_type": "code",
   "execution_count": 95,
   "id": "3e4e2ccd-94db-4d43-b8c2-b69c3b053ee1",
   "metadata": {},
   "outputs": [
    {
     "name": "stdout",
     "output_type": "stream",
     "text": [
      "Cantidad de palabras univocas: 354935\n"
     ]
    }
   ],
   "source": [
    "print(\"Cantidad de palabras univocas: {}\".format(len(words_count.keys())))"
   ]
  },
  {
   "cell_type": "code",
   "execution_count": 96,
   "id": "80e7c7f0-8a4f-4f9a-8b45-d29e0e5611e1",
   "metadata": {},
   "outputs": [
    {
     "name": "stdout",
     "output_type": "stream",
     "text": [
      "Cantidad de palabras: 354937\n"
     ]
    }
   ],
   "source": [
    "print(\"Cantidad de palabras: {}\".format(len(words)))"
   ]
  },
  {
   "cell_type": "code",
   "execution_count": 97,
   "id": "1da21664-2e5f-4f6c-bc90-03eecc674a0b",
   "metadata": {},
   "outputs": [
    {
     "name": "stdout",
     "output_type": "stream",
     "text": [
      "Cantidad de bytes para almacenar el archivo: 11003047\n"
     ]
    }
   ],
   "source": [
    "size_in_bytes = max(words_length)*len(words)\n",
    "print(\"Cantidad de bytes para almacenar el archivo: {}\".format(size_in_bytes))"
   ]
  },
  {
   "cell_type": "code",
   "execution_count": 98,
   "id": "d7160fef-8399-4032-a2ff-228fc071e76b",
   "metadata": {},
   "outputs": [],
   "source": [
    "import matplotlib.pyplot as plt"
   ]
  },
  {
   "cell_type": "code",
   "execution_count": 99,
   "id": "73b6d3b0-856d-4e38-bed7-e4283c0af87c",
   "metadata": {},
   "outputs": [
    {
     "data": {
      "image/png": "[encoded data removed]",
      "text/plain": [
       "<Figure size 432x288 with 1 Axes>"
      ]
     },
     "metadata": {
      "needs_background": "light"
     },
     "output_type": "display_data"
    }
   ],
   "source": [
    "plt.figure(0)\n",
    "plt.xlabel(\"Longitud de palabra\")\n",
    "plt.ylabel(\"Cantidad de palabras\")\n",
    "plt.hist(words_length)\n",
    "plt.savefig(\"length_distribution\")"
   ]
  },
  {
   "cell_type": "code",
   "execution_count": 100,
   "id": "206f12cb-cdfe-4e0f-9d0a-37d9712cfe52",
   "metadata": {},
   "outputs": [
    {
     "name": "stdout",
     "output_type": "stream",
     "text": [
      "Cantidad de bytes usados: 3357489\n",
      "Cantidad de bytes desperdiciados: 7645558\n",
      "Porcentaje de usados: 0.3051417484629485\n",
      "Porcentaje de desperdicio: 0.6948582515370515\n"
     ]
    }
   ],
   "source": [
    "bytes_usados = 0\n",
    "bytes_desperdiciados = 0\n",
    "for word in words:\n",
    "    bytes_usados += len(word)\n",
    "    bytes_desperdiciados += 31 - len(word)\n",
    "\n",
    "print(\"Cantidad de bytes usados: {}\".format(bytes_usados))\n",
    "print(\"Cantidad de bytes desperdiciados: {}\".format(bytes_desperdiciados))\n",
    "\n",
    "print(\"Porcentaje de usados: {}\".format(bytes_usados/size_in_bytes))\n",
    "print(\"Porcentaje de desperdicio: {}\".format(bytes_desperdiciados/size_in_bytes))\n",
    "\n"
   ]
  },
  {
   "cell_type": "code",
   "execution_count": 102,
   "id": "4275bba4-9150-4164-b715-3ad335aae423",
   "metadata": {},
   "outputs": [
    {
     "data": {
      "text/plain": [
       "20.0"
      ]
     },
     "execution_count": 102,
     "metadata": {},
     "output_type": "execute_result"
    }
   ],
   "source": [
    "import numpy\n",
    "numpy.percentile(sorted(words_length), 99.9)"
   ]
  },
  {
   "cell_type": "code",
   "execution_count": 113,
   "id": "9fe5e928-0e33-40b9-b28a-5dd4c9c8e96b",
   "metadata": {},
   "outputs": [
    {
     "name": "stdout",
     "output_type": "stream",
     "text": [
      "compressed_size: 4422300\n",
      "overhead: 0.24078217217285122\n"
     ]
    },
    {
     "data": {
      "text/plain": [
       "0.40191594201133557"
      ]
     },
     "execution_count": 113,
     "metadata": {},
     "output_type": "execute_result"
    }
   ],
   "source": [
    "POINTER_BYTES = 3\n",
    "compressed_size = bytes_usados + len(words) * POINTER_BYTES\n",
    "print(\"compressed_size: {}\".format(compressed_size))\n",
    "\n",
    "overhead = (len(words) * POINTER_BYTES) / (bytes_usados + (len(words) * POINTER_BYTES))\n",
    "\n",
    "print(\"overhead: {}\".format(overhead))\n",
    "\n",
    "compressed_size/size_in_bytes\n"
   ]
  }
 ],
 "metadata": {
  "kernelspec": {
   "display_name": "Python 3 (ipykernel)",
   "language": "python",
   "name": "python3"
  },
  "language_info": {
   "codemirror_mode": {
    "name": "ipython",
    "version": 3
   },
   "file_extension": ".py",
   "mimetype": "text/x-python",
   "name": "python",
   "nbconvert_exporter": "python",
   "pygments_lexer": "ipython3",
   "version": "3.10.4"
  }
 },
 "nbformat": 4,
 "nbformat_minor": 5
}
